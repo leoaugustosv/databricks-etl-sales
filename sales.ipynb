{
 "cells": [
  {
   "cell_type": "markdown",
   "metadata": {
    "application/vnd.databricks.v1+cell": {
     "cellMetadata": {},
     "inputWidgets": {},
     "nuid": "fe74f17d-1753-4aaf-b99f-730ea1221114",
     "showTitle": false,
     "title": ""
    }
   },
   "source": [
    "##Realizando extração e transformação inicial"
   ]
  },
  {
   "cell_type": "code",
   "execution_count": 0,
   "metadata": {
    "application/vnd.databricks.v1+cell": {
     "cellMetadata": {
      "byteLimit": 2048000,
      "rowLimit": 10000
     },
     "inputWidgets": {},
     "nuid": "0443a709-ed8d-48f3-9648-7f34e763fed7",
     "showTitle": false,
     "title": ""
    }
   },
   "outputs": [],
   "source": [
    "# Importar bibliotecas do PySpark\n",
    "\n",
    "from pyspark.sql.functions import *\n",
    "from pyspark.sql.types import *"
   ]
  },
  {
   "cell_type": "code",
   "execution_count": 0,
   "metadata": {
    "application/vnd.databricks.v1+cell": {
     "cellMetadata": {
      "byteLimit": 2048000,
      "rowLimit": 10000
     },
     "inputWidgets": {},
     "nuid": "12dc8c62-fa3e-4089-91b4-d23ec0652ba2",
     "showTitle": false,
     "title": ""
    }
   },
   "outputs": [
    {
     "output_type": "execute_result",
     "data": {
      "text/plain": [
       "[FileInfo(path='dbfs:/FileStore/tables/Sales_April_2019.csv', name='Sales_April_2019.csv', size=1595953, modificationTime=1717289309000),\n",
       " FileInfo(path='dbfs:/FileStore/tables/Sales_August_2019.csv', name='Sales_August_2019.csv', size=1043593, modificationTime=1717289309000),\n",
       " FileInfo(path='dbfs:/FileStore/tables/Sales_December_2019.csv', name='Sales_December_2019.csv', size=2181642, modificationTime=1717289311000),\n",
       " FileInfo(path='dbfs:/FileStore/tables/Sales_February_2019.csv', name='Sales_February_2019.csv', size=1046495, modificationTime=1717289310000),\n",
       " FileInfo(path='dbfs:/FileStore/tables/Sales_January_2019.csv', name='Sales_January_2019.csv', size=843098, modificationTime=1717289311000),\n",
       " FileInfo(path='dbfs:/FileStore/tables/Sales_January_2020.csv', name='Sales_January_2020.csv', size=1595953, modificationTime=1717289312000),\n",
       " FileInfo(path='dbfs:/FileStore/tables/Sales_July_2019.csv', name='Sales_July_2019.csv', size=1248753, modificationTime=1717289312000),\n",
       " FileInfo(path='dbfs:/FileStore/tables/Sales_June_2019.csv', name='Sales_June_2019.csv', size=1182508, modificationTime=1717289313000),\n",
       " FileInfo(path='dbfs:/FileStore/tables/Sales_March_2019.csv', name='Sales_March_2019.csv', size=1323497, modificationTime=1717289314000),\n",
       " FileInfo(path='dbfs:/FileStore/tables/Sales_May_2019.csv', name='Sales_May_2019.csv', size=1443965, modificationTime=1717289314000),\n",
       " FileInfo(path='dbfs:/FileStore/tables/Sales_November_2019.csv', name='Sales_November_2019.csv', size=1534677, modificationTime=1717289315000),\n",
       " FileInfo(path='dbfs:/FileStore/tables/Sales_October_2019.csv', name='Sales_October_2019.csv', size=1770338, modificationTime=1717289315000),\n",
       " FileInfo(path='dbfs:/FileStore/tables/Sales_September_2019.csv', name='Sales_September_2019.csv', size=1014958, modificationTime=1717289316000)]"
      ]
     },
     "execution_count": 21,
     "metadata": {},
     "output_type": "execute_result"
    }
   ],
   "source": [
    "# Utilizando biblioteca DBUtils (nativa) para apontar caminho de onde os arquivos serão importados # dbfs://FileStore\n",
    "\n",
    "# Limpar a pasta tables\n",
    "#dbutils.fs.rm('dbfs:/FileStore/tables', True)\n",
    "\n",
    "# Armazenar em variavel a lista das infos dos arquivos no caminho especificado\n",
    "files = dbutils.fs.ls(\"dbfs:/FileStore/tables\")\n",
    "files\n"
   ]
  },
  {
   "cell_type": "code",
   "execution_count": 0,
   "metadata": {
    "application/vnd.databricks.v1+cell": {
     "cellMetadata": {
      "byteLimit": 2048000,
      "rowLimit": 10000
     },
     "inputWidgets": {},
     "nuid": "6170dc37-7a46-4b07-a913-4c40151816d8",
     "showTitle": false,
     "title": ""
    }
   },
   "outputs": [
    {
     "output_type": "execute_result",
     "data": {
      "text/plain": [
       "['dbfs:/FileStore/tables/Sales_April_2019.csv',\n",
       " 'dbfs:/FileStore/tables/Sales_August_2019.csv',\n",
       " 'dbfs:/FileStore/tables/Sales_December_2019.csv',\n",
       " 'dbfs:/FileStore/tables/Sales_February_2019.csv',\n",
       " 'dbfs:/FileStore/tables/Sales_January_2019.csv',\n",
       " 'dbfs:/FileStore/tables/Sales_July_2019.csv',\n",
       " 'dbfs:/FileStore/tables/Sales_June_2019.csv',\n",
       " 'dbfs:/FileStore/tables/Sales_March_2019.csv',\n",
       " 'dbfs:/FileStore/tables/Sales_May_2019.csv',\n",
       " 'dbfs:/FileStore/tables/Sales_November_2019.csv',\n",
       " 'dbfs:/FileStore/tables/Sales_October_2019.csv',\n",
       " 'dbfs:/FileStore/tables/Sales_September_2019.csv']"
      ]
     },
     "execution_count": 3,
     "metadata": {},
     "output_type": "execute_result"
    }
   ],
   "source": [
    "# filtrar arquivos .csv apenas de 2019 usando apenas o path\n",
    "\n",
    "files_2019 = [f.path for f in files if f.path.endswith(\"2019.csv\")]\n",
    "files_2019"
   ]
  },
  {
   "cell_type": "code",
   "execution_count": 0,
   "metadata": {
    "application/vnd.databricks.v1+cell": {
     "cellMetadata": {
      "byteLimit": 2048000,
      "rowLimit": 10000
     },
     "inputWidgets": {},
     "nuid": "daa3f38b-f367-4aaa-958f-8ab790cd6e2b",
     "showTitle": false,
     "title": ""
    }
   },
   "outputs": [
    {
     "output_type": "display_data",
     "data": {
      "text/html": [
       "<style scoped>\n",
       "  .table-result-container {\n",
       "    max-height: 300px;\n",
       "    overflow: auto;\n",
       "  }\n",
       "  table, th, td {\n",
       "    border: 1px solid black;\n",
       "    border-collapse: collapse;\n",
       "  }\n",
       "  th, td {\n",
       "    padding: 5px;\n",
       "  }\n",
       "  th {\n",
       "    text-align: left;\n",
       "  }\n",
       "</style><div class='table-result-container'><table class='table-result'><thead style='background-color: white'><tr><th>Order ID</th><th>Product</th><th>Quantity Ordered</th><th>Price Each</th><th>Order Date</th><th>Purchase Address</th></tr></thead><tbody><tr><td>176558</td><td>USB-C Charging Cable</td><td>2</td><td>11.95</td><td>04/19/19 08:46</td><td>917 1st St, Dallas, TX 75001</td></tr><tr><td>null</td><td>null</td><td>null</td><td>null</td><td>null</td><td>null</td></tr><tr><td>176559</td><td>Bose SoundSport Headphones</td><td>1</td><td>99.99</td><td>04/07/19 22:30</td><td>682 Chestnut St, Boston, MA 02215</td></tr><tr><td>176560</td><td>Google Phone</td><td>1</td><td>600.0</td><td>04/12/19 14:38</td><td>669 Spruce St, Los Angeles, CA 90001</td></tr><tr><td>176560</td><td>Wired Headphones</td><td>1</td><td>11.99</td><td>04/12/19 14:38</td><td>669 Spruce St, Los Angeles, CA 90001</td></tr><tr><td>176561</td><td>Wired Headphones</td><td>1</td><td>11.99</td><td>04/30/19 09:27</td><td>333 8th St, Los Angeles, CA 90001</td></tr><tr><td>176562</td><td>USB-C Charging Cable</td><td>1</td><td>11.95</td><td>04/29/19 13:03</td><td>381 Wilson St, San Francisco, CA 94016</td></tr><tr><td>176563</td><td>Bose SoundSport Headphones</td><td>1</td><td>99.99</td><td>04/02/19 07:46</td><td>668 Center St, Seattle, WA 98101</td></tr><tr><td>176564</td><td>USB-C Charging Cable</td><td>1</td><td>11.95</td><td>04/12/19 10:58</td><td>790 Ridge St, Atlanta, GA 30301</td></tr><tr><td>176565</td><td>Macbook Pro Laptop</td><td>1</td><td>1700.0</td><td>04/24/19 10:38</td><td>915 Willow St, San Francisco, CA 94016</td></tr></tbody></table></div>"
      ]
     },
     "metadata": {
      "application/vnd.databricks.v1+output": {
       "addedWidgets": {},
       "aggData": [],
       "aggError": "",
       "aggOverflow": false,
       "aggSchema": [],
       "aggSeriesLimitReached": false,
       "aggType": "",
       "arguments": {},
       "columnCustomDisplayInfos": {},
       "data": [
        [
         176558,
         "USB-C Charging Cable",
         2,
         11.95,
         "04/19/19 08:46",
         "917 1st St, Dallas, TX 75001"
        ],
        [
         null,
         null,
         null,
         null,
         null,
         null
        ],
        [
         176559,
         "Bose SoundSport Headphones",
         1,
         99.99,
         "04/07/19 22:30",
         "682 Chestnut St, Boston, MA 02215"
        ],
        [
         176560,
         "Google Phone",
         1,
         600.0,
         "04/12/19 14:38",
         "669 Spruce St, Los Angeles, CA 90001"
        ],
        [
         176560,
         "Wired Headphones",
         1,
         11.99,
         "04/12/19 14:38",
         "669 Spruce St, Los Angeles, CA 90001"
        ],
        [
         176561,
         "Wired Headphones",
         1,
         11.99,
         "04/30/19 09:27",
         "333 8th St, Los Angeles, CA 90001"
        ],
        [
         176562,
         "USB-C Charging Cable",
         1,
         11.95,
         "04/29/19 13:03",
         "381 Wilson St, San Francisco, CA 94016"
        ],
        [
         176563,
         "Bose SoundSport Headphones",
         1,
         99.99,
         "04/02/19 07:46",
         "668 Center St, Seattle, WA 98101"
        ],
        [
         176564,
         "USB-C Charging Cable",
         1,
         11.95,
         "04/12/19 10:58",
         "790 Ridge St, Atlanta, GA 30301"
        ],
        [
         176565,
         "Macbook Pro Laptop",
         1,
         1700.0,
         "04/24/19 10:38",
         "915 Willow St, San Francisco, CA 94016"
        ]
       ],
       "datasetInfos": [],
       "dbfsResultPath": null,
       "isJsonSchema": true,
       "metadata": {},
       "overflow": false,
       "plotOptions": {
        "customPlotOptions": {},
        "displayType": "table",
        "pivotAggregation": null,
        "pivotColumns": null,
        "xColumns": null,
        "yColumns": null
       },
       "removedWidgets": [],
       "schema": [
        {
         "metadata": "{}",
         "name": "Order ID",
         "type": "\"integer\""
        },
        {
         "metadata": "{}",
         "name": "Product",
         "type": "\"string\""
        },
        {
         "metadata": "{}",
         "name": "Quantity Ordered",
         "type": "\"integer\""
        },
        {
         "metadata": "{}",
         "name": "Price Each",
         "type": "\"double\""
        },
        {
         "metadata": "{}",
         "name": "Order Date",
         "type": "\"string\""
        },
        {
         "metadata": "{}",
         "name": "Purchase Address",
         "type": "\"string\""
        }
       ],
       "type": "table"
      }
     },
     "output_type": "display_data"
    }
   ],
   "source": [
    "# Criar primeiro dataframe (inicial)\n",
    "\n",
    "df = spark.read.csv(files_2019[0], inferSchema=True, header=True)\n",
    "display(df.limit(10))"
   ]
  },
  {
   "cell_type": "code",
   "execution_count": 0,
   "metadata": {
    "application/vnd.databricks.v1+cell": {
     "cellMetadata": {
      "byteLimit": 2048000,
      "rowLimit": 10000
     },
     "inputWidgets": {},
     "nuid": "0eba6a45-2781-4d0e-a2fc-42cc10b3a8a2",
     "showTitle": false,
     "title": ""
    }
   },
   "outputs": [
    {
     "output_type": "stream",
     "name": "stdout",
     "output_type": "stream",
     "text": [
      "dbfs:/FileStore/tables/Sales_August_2019.csv incluído com sucesso!\ndbfs:/FileStore/tables/Sales_December_2019.csv incluído com sucesso!\ndbfs:/FileStore/tables/Sales_February_2019.csv incluído com sucesso!\ndbfs:/FileStore/tables/Sales_January_2019.csv incluído com sucesso!\ndbfs:/FileStore/tables/Sales_July_2019.csv incluído com sucesso!\ndbfs:/FileStore/tables/Sales_June_2019.csv incluído com sucesso!\ndbfs:/FileStore/tables/Sales_March_2019.csv incluído com sucesso!\ndbfs:/FileStore/tables/Sales_May_2019.csv incluído com sucesso!\ndbfs:/FileStore/tables/Sales_November_2019.csv incluído com sucesso!\ndbfs:/FileStore/tables/Sales_October_2019.csv incluído com sucesso!\ndbfs:/FileStore/tables/Sales_September_2019.csv incluído com sucesso!\n"
     ]
    }
   ],
   "source": [
    "# Criar os demais DFs para cada mês (a partir do segundo arquivo) e juntar (union) com o primeiro DF\n",
    "\n",
    "for f in files_2019[1:]:\n",
    "    df_temp = spark.read.csv(f, inferSchema=True,header=True)\n",
    "    df = df.union(df_temp)\n",
    "    print(f\"{f} incluído com sucesso!\")"
   ]
  },
  {
   "cell_type": "code",
   "execution_count": 0,
   "metadata": {
    "application/vnd.databricks.v1+cell": {
     "cellMetadata": {
      "byteLimit": 2048000,
      "rowLimit": 10000
     },
     "inputWidgets": {},
     "nuid": "0d278e1c-93cd-411e-a2ac-9c2ebf267f80",
     "showTitle": false,
     "title": ""
    }
   },
   "outputs": [
    {
     "output_type": "display_data",
     "data": {
      "text/html": [
       "<style scoped>\n",
       "  .table-result-container {\n",
       "    max-height: 300px;\n",
       "    overflow: auto;\n",
       "  }\n",
       "  table, th, td {\n",
       "    border: 1px solid black;\n",
       "    border-collapse: collapse;\n",
       "  }\n",
       "  th, td {\n",
       "    padding: 5px;\n",
       "  }\n",
       "  th {\n",
       "    text-align: left;\n",
       "  }\n",
       "</style><div class='table-result-container'><table class='table-result'><thead style='background-color: white'><tr><th>Order ID</th><th>Product</th><th>Quantity Ordered</th><th>Price Each</th><th>Order Date</th><th>Purchase Address</th></tr></thead><tbody><tr><td>236670</td><td>Wired Headphones</td><td>2</td><td>11.99</td><td>08/31/19 22:21</td><td>359 Spruce St, Seattle, WA 98101</td></tr><tr><td>236671</td><td>Bose SoundSport Headphones</td><td>1</td><td>99.99</td><td>08/15/19 15:11</td><td>492 Ridge St, Dallas, TX 75001</td></tr><tr><td>236672</td><td>iPhone</td><td>1</td><td>700.0</td><td>08/06/19 14:40</td><td>149 7th St, Portland, OR 97035</td></tr><tr><td>236673</td><td>AA Batteries (4-pack)</td><td>2</td><td>3.84</td><td>08/29/19 20:59</td><td>631 2nd St, Los Angeles, CA 90001</td></tr><tr><td>236674</td><td>AA Batteries (4-pack)</td><td>2</td><td>3.84</td><td>08/15/19 19:53</td><td>736 14th St, New York City, NY 10001</td></tr><tr><td>236675</td><td>Wired Headphones</td><td>1</td><td>11.99</td><td>08/02/19 23:54</td><td>470 Hill St, San Francisco, CA 94016</td></tr><tr><td>236676</td><td>34in Ultrawide Monitor</td><td>1</td><td>379.99</td><td>08/04/19 19:52</td><td>470 Cherry St, Los Angeles, CA 90001</td></tr><tr><td>236677</td><td>20in Monitor</td><td>1</td><td>109.99</td><td>08/13/19 07:16</td><td>918 6th St, San Francisco, CA 94016</td></tr><tr><td>236678</td><td>Wired Headphones</td><td>1</td><td>11.99</td><td>08/25/19 20:11</td><td>58 9th St, San Francisco, CA 94016</td></tr><tr><td>236679</td><td>Macbook Pro Laptop</td><td>1</td><td>1700.0</td><td>08/07/19 15:43</td><td>239 Spruce St, Los Angeles, CA 90001</td></tr></tbody></table></div>"
      ]
     },
     "metadata": {
      "application/vnd.databricks.v1+output": {
       "addedWidgets": {},
       "aggData": [],
       "aggError": "",
       "aggOverflow": false,
       "aggSchema": [],
       "aggSeriesLimitReached": false,
       "aggType": "",
       "arguments": {},
       "columnCustomDisplayInfos": {},
       "data": [
        [
         236670,
         "Wired Headphones",
         2,
         11.99,
         "08/31/19 22:21",
         "359 Spruce St, Seattle, WA 98101"
        ],
        [
         236671,
         "Bose SoundSport Headphones",
         1,
         99.99,
         "08/15/19 15:11",
         "492 Ridge St, Dallas, TX 75001"
        ],
        [
         236672,
         "iPhone",
         1,
         700.0,
         "08/06/19 14:40",
         "149 7th St, Portland, OR 97035"
        ],
        [
         236673,
         "AA Batteries (4-pack)",
         2,
         3.84,
         "08/29/19 20:59",
         "631 2nd St, Los Angeles, CA 90001"
        ],
        [
         236674,
         "AA Batteries (4-pack)",
         2,
         3.84,
         "08/15/19 19:53",
         "736 14th St, New York City, NY 10001"
        ],
        [
         236675,
         "Wired Headphones",
         1,
         11.99,
         "08/02/19 23:54",
         "470 Hill St, San Francisco, CA 94016"
        ],
        [
         236676,
         "34in Ultrawide Monitor",
         1,
         379.99,
         "08/04/19 19:52",
         "470 Cherry St, Los Angeles, CA 90001"
        ],
        [
         236677,
         "20in Monitor",
         1,
         109.99,
         "08/13/19 07:16",
         "918 6th St, San Francisco, CA 94016"
        ],
        [
         236678,
         "Wired Headphones",
         1,
         11.99,
         "08/25/19 20:11",
         "58 9th St, San Francisco, CA 94016"
        ],
        [
         236679,
         "Macbook Pro Laptop",
         1,
         1700.0,
         "08/07/19 15:43",
         "239 Spruce St, Los Angeles, CA 90001"
        ]
       ],
       "datasetInfos": [],
       "dbfsResultPath": null,
       "isJsonSchema": true,
       "metadata": {},
       "overflow": false,
       "plotOptions": {
        "customPlotOptions": {},
        "displayType": "table",
        "pivotAggregation": null,
        "pivotColumns": null,
        "xColumns": null,
        "yColumns": null
       },
       "removedWidgets": [],
       "schema": [
        {
         "metadata": "{}",
         "name": "Order ID",
         "type": "\"integer\""
        },
        {
         "metadata": "{}",
         "name": "Product",
         "type": "\"string\""
        },
        {
         "metadata": "{}",
         "name": "Quantity Ordered",
         "type": "\"integer\""
        },
        {
         "metadata": "{}",
         "name": "Price Each",
         "type": "\"double\""
        },
        {
         "metadata": "{}",
         "name": "Order Date",
         "type": "\"string\""
        },
        {
         "metadata": "{}",
         "name": "Purchase Address",
         "type": "\"string\""
        }
       ],
       "type": "table"
      }
     },
     "output_type": "display_data"
    }
   ],
   "source": [
    "# Verificar se outros meses foram importados além de Abril \n",
    "\n",
    "display(df.filter(col(\"Order Date\").startswith(\"08\")).limit(10))"
   ]
  },
  {
   "cell_type": "code",
   "execution_count": 0,
   "metadata": {
    "application/vnd.databricks.v1+cell": {
     "cellMetadata": {
      "byteLimit": 2048000,
      "rowLimit": 10000
     },
     "inputWidgets": {},
     "nuid": "32dd8961-74d9-4cb5-99df-039229285a78",
     "showTitle": false,
     "title": ""
    }
   },
   "outputs": [
    {
     "output_type": "display_data",
     "data": {
      "text/html": [
       "<style scoped>\n",
       "  .table-result-container {\n",
       "    max-height: 300px;\n",
       "    overflow: auto;\n",
       "  }\n",
       "  table, th, td {\n",
       "    border: 1px solid black;\n",
       "    border-collapse: collapse;\n",
       "  }\n",
       "  th, td {\n",
       "    padding: 5px;\n",
       "  }\n",
       "  th {\n",
       "    text-align: left;\n",
       "  }\n",
       "</style><div class='table-result-container'><table class='table-result'><thead style='background-color: white'><tr><th>Order ID</th><th>Product</th><th>Quantity Ordered</th><th>Price Each</th><th>Order Date</th><th>Purchase Address</th><th>Month</th><th>Day</th><th>Time</th></tr></thead><tbody><tr><td>176558</td><td>USB-C Charging Cable</td><td>2</td><td>11.95</td><td>04/19/19 08:46</td><td>917 1st St, Dallas, TX 75001</td><td>04</td><td>19</td><td>08:46</td></tr><tr><td>null</td><td>null</td><td>null</td><td>null</td><td>null</td><td>null</td><td>null</td><td>null</td><td>null</td></tr><tr><td>176559</td><td>Bose SoundSport Headphones</td><td>1</td><td>99.99</td><td>04/07/19 22:30</td><td>682 Chestnut St, Boston, MA 02215</td><td>04</td><td>07</td><td>22:30</td></tr><tr><td>176560</td><td>Google Phone</td><td>1</td><td>600.0</td><td>04/12/19 14:38</td><td>669 Spruce St, Los Angeles, CA 90001</td><td>04</td><td>12</td><td>14:38</td></tr><tr><td>176560</td><td>Wired Headphones</td><td>1</td><td>11.99</td><td>04/12/19 14:38</td><td>669 Spruce St, Los Angeles, CA 90001</td><td>04</td><td>12</td><td>14:38</td></tr><tr><td>176561</td><td>Wired Headphones</td><td>1</td><td>11.99</td><td>04/30/19 09:27</td><td>333 8th St, Los Angeles, CA 90001</td><td>04</td><td>30</td><td>09:27</td></tr><tr><td>176562</td><td>USB-C Charging Cable</td><td>1</td><td>11.95</td><td>04/29/19 13:03</td><td>381 Wilson St, San Francisco, CA 94016</td><td>04</td><td>29</td><td>13:03</td></tr><tr><td>176563</td><td>Bose SoundSport Headphones</td><td>1</td><td>99.99</td><td>04/02/19 07:46</td><td>668 Center St, Seattle, WA 98101</td><td>04</td><td>02</td><td>07:46</td></tr><tr><td>176564</td><td>USB-C Charging Cable</td><td>1</td><td>11.95</td><td>04/12/19 10:58</td><td>790 Ridge St, Atlanta, GA 30301</td><td>04</td><td>12</td><td>10:58</td></tr><tr><td>176565</td><td>Macbook Pro Laptop</td><td>1</td><td>1700.0</td><td>04/24/19 10:38</td><td>915 Willow St, San Francisco, CA 94016</td><td>04</td><td>24</td><td>10:38</td></tr></tbody></table></div>"
      ]
     },
     "metadata": {
      "application/vnd.databricks.v1+output": {
       "addedWidgets": {},
       "aggData": [],
       "aggError": "",
       "aggOverflow": false,
       "aggSchema": [],
       "aggSeriesLimitReached": false,
       "aggType": "",
       "arguments": {},
       "columnCustomDisplayInfos": {},
       "data": [
        [
         176558,
         "USB-C Charging Cable",
         2,
         11.95,
         "04/19/19 08:46",
         "917 1st St, Dallas, TX 75001",
         "04",
         "19",
         "08:46"
        ],
        [
         null,
         null,
         null,
         null,
         null,
         null,
         null,
         null,
         null
        ],
        [
         176559,
         "Bose SoundSport Headphones",
         1,
         99.99,
         "04/07/19 22:30",
         "682 Chestnut St, Boston, MA 02215",
         "04",
         "07",
         "22:30"
        ],
        [
         176560,
         "Google Phone",
         1,
         600.0,
         "04/12/19 14:38",
         "669 Spruce St, Los Angeles, CA 90001",
         "04",
         "12",
         "14:38"
        ],
        [
         176560,
         "Wired Headphones",
         1,
         11.99,
         "04/12/19 14:38",
         "669 Spruce St, Los Angeles, CA 90001",
         "04",
         "12",
         "14:38"
        ],
        [
         176561,
         "Wired Headphones",
         1,
         11.99,
         "04/30/19 09:27",
         "333 8th St, Los Angeles, CA 90001",
         "04",
         "30",
         "09:27"
        ],
        [
         176562,
         "USB-C Charging Cable",
         1,
         11.95,
         "04/29/19 13:03",
         "381 Wilson St, San Francisco, CA 94016",
         "04",
         "29",
         "13:03"
        ],
        [
         176563,
         "Bose SoundSport Headphones",
         1,
         99.99,
         "04/02/19 07:46",
         "668 Center St, Seattle, WA 98101",
         "04",
         "02",
         "07:46"
        ],
        [
         176564,
         "USB-C Charging Cable",
         1,
         11.95,
         "04/12/19 10:58",
         "790 Ridge St, Atlanta, GA 30301",
         "04",
         "12",
         "10:58"
        ],
        [
         176565,
         "Macbook Pro Laptop",
         1,
         1700.0,
         "04/24/19 10:38",
         "915 Willow St, San Francisco, CA 94016",
         "04",
         "24",
         "10:38"
        ]
       ],
       "datasetInfos": [],
       "dbfsResultPath": null,
       "isJsonSchema": true,
       "metadata": {},
       "overflow": false,
       "plotOptions": {
        "customPlotOptions": {},
        "displayType": "table",
        "pivotAggregation": null,
        "pivotColumns": null,
        "xColumns": null,
        "yColumns": null
       },
       "removedWidgets": [],
       "schema": [
        {
         "metadata": "{}",
         "name": "Order ID",
         "type": "\"integer\""
        },
        {
         "metadata": "{}",
         "name": "Product",
         "type": "\"string\""
        },
        {
         "metadata": "{}",
         "name": "Quantity Ordered",
         "type": "\"integer\""
        },
        {
         "metadata": "{}",
         "name": "Price Each",
         "type": "\"double\""
        },
        {
         "metadata": "{}",
         "name": "Order Date",
         "type": "\"string\""
        },
        {
         "metadata": "{}",
         "name": "Purchase Address",
         "type": "\"string\""
        },
        {
         "metadata": "{}",
         "name": "Month",
         "type": "\"string\""
        },
        {
         "metadata": "{}",
         "name": "Day",
         "type": "\"string\""
        },
        {
         "metadata": "{}",
         "name": "Time",
         "type": "\"string\""
        }
       ],
       "type": "table"
      }
     },
     "output_type": "display_data"
    }
   ],
   "source": [
    "# Criar novas colunas no DataFrame para eventuais análises\n",
    "\n",
    "# Colunas para determinar mês, dia e hora\n",
    "df = df.withColumn(\"Month\",substring(col(\"Order Date\"),0,2))\\\n",
    "    .withColumn(\"Day\",substring(col(\"Order Date\"),4,2))\\\n",
    "    .withColumn(\"Time\",substring(col(\"Order Date\"),10,5))\n",
    "\n",
    "display(df.limit(10))"
   ]
  },
  {
   "cell_type": "code",
   "execution_count": 0,
   "metadata": {
    "application/vnd.databricks.v1+cell": {
     "cellMetadata": {
      "byteLimit": 2048000,
      "rowLimit": 10000
     },
     "inputWidgets": {},
     "nuid": "d37f1488-87f4-40b4-a5e7-a204ce2ac605",
     "showTitle": false,
     "title": ""
    }
   },
   "outputs": [
    {
     "output_type": "stream",
     "name": "stdout",
     "output_type": "stream",
     "text": [
      "Order ID 900\nProduct 545\nQuantity Ordered 900\nPrice Each 900\nOrder Date 545\nPurchase Address 545\nMonth 545\nDay 545\nTime 545\n"
     ]
    }
   ],
   "source": [
    "# Verificando quantidade de valores nulos em cada coluna\n",
    "\n",
    "for column in df.columns:\n",
    "    print(column, df.filter(col(column).isNull()).count())"
   ]
  },
  {
   "cell_type": "code",
   "execution_count": 0,
   "metadata": {
    "application/vnd.databricks.v1+cell": {
     "cellMetadata": {
      "byteLimit": 2048000,
      "rowLimit": 10000
     },
     "inputWidgets": {},
     "nuid": "add841d1-5beb-4021-9e74-4e0a4a5b1518",
     "showTitle": false,
     "title": ""
    }
   },
   "outputs": [
    {
     "output_type": "display_data",
     "data": {
      "text/html": [
       "<style scoped>\n",
       "  .table-result-container {\n",
       "    max-height: 300px;\n",
       "    overflow: auto;\n",
       "  }\n",
       "  table, th, td {\n",
       "    border: 1px solid black;\n",
       "    border-collapse: collapse;\n",
       "  }\n",
       "  th, td {\n",
       "    padding: 5px;\n",
       "  }\n",
       "  th {\n",
       "    text-align: left;\n",
       "  }\n",
       "</style><div class='table-result-container'><table class='table-result'><thead style='background-color: white'><tr><th>Order ID</th><th>Product</th><th>Quantity Ordered</th><th>Price Each</th><th>Order Date</th><th>Purchase Address</th><th>Month</th><th>Day</th><th>Time</th></tr></thead><tbody><tr><td>null</td><td>null</td><td>null</td><td>null</td><td>null</td><td>null</td><td>null</td><td>null</td><td>null</td></tr><tr><td>null</td><td>Product</td><td>null</td><td>null</td><td>Order Date</td><td>Purchase Address</td><td>Or</td><td>er</td><td>e</td></tr></tbody></table></div>"
      ]
     },
     "metadata": {
      "application/vnd.databricks.v1+output": {
       "addedWidgets": {},
       "aggData": [],
       "aggError": "",
       "aggOverflow": false,
       "aggSchema": [],
       "aggSeriesLimitReached": false,
       "aggType": "",
       "arguments": {},
       "columnCustomDisplayInfos": {},
       "data": [
        [
         null,
         null,
         null,
         null,
         null,
         null,
         null,
         null,
         null
        ],
        [
         null,
         "Product",
         null,
         null,
         "Order Date",
         "Purchase Address",
         "Or",
         "er",
         "e"
        ]
       ],
       "datasetInfos": [],
       "dbfsResultPath": null,
       "isJsonSchema": true,
       "metadata": {},
       "overflow": false,
       "plotOptions": {
        "customPlotOptions": {},
        "displayType": "table",
        "pivotAggregation": null,
        "pivotColumns": null,
        "xColumns": null,
        "yColumns": null
       },
       "removedWidgets": [],
       "schema": [
        {
         "metadata": "{}",
         "name": "Order ID",
         "type": "\"integer\""
        },
        {
         "metadata": "{}",
         "name": "Product",
         "type": "\"string\""
        },
        {
         "metadata": "{}",
         "name": "Quantity Ordered",
         "type": "\"integer\""
        },
        {
         "metadata": "{}",
         "name": "Price Each",
         "type": "\"double\""
        },
        {
         "metadata": "{}",
         "name": "Order Date",
         "type": "\"string\""
        },
        {
         "metadata": "{}",
         "name": "Purchase Address",
         "type": "\"string\""
        },
        {
         "metadata": "{}",
         "name": "Month",
         "type": "\"string\""
        },
        {
         "metadata": "{}",
         "name": "Day",
         "type": "\"string\""
        },
        {
         "metadata": "{}",
         "name": "Time",
         "type": "\"string\""
        }
       ],
       "type": "table"
      }
     },
     "output_type": "display_data"
    }
   ],
   "source": [
    "# Remover duplicatas\n",
    "df = df.dropDuplicates()\n",
    "\n",
    "# Exibir valores nulos restantes\n",
    "display(df.filter(col(\"Order ID\").isNull()))"
   ]
  },
  {
   "cell_type": "code",
   "execution_count": 0,
   "metadata": {
    "application/vnd.databricks.v1+cell": {
     "cellMetadata": {
      "byteLimit": 2048000,
      "rowLimit": 10000
     },
     "inputWidgets": {},
     "nuid": "ebc8330c-501b-4fab-bf96-189f3b74b2b9",
     "showTitle": false,
     "title": ""
    }
   },
   "outputs": [
    {
     "output_type": "display_data",
     "data": {
      "text/html": [
       "<style scoped>\n",
       "  .table-result-container {\n",
       "    max-height: 300px;\n",
       "    overflow: auto;\n",
       "  }\n",
       "  table, th, td {\n",
       "    border: 1px solid black;\n",
       "    border-collapse: collapse;\n",
       "  }\n",
       "  th, td {\n",
       "    padding: 5px;\n",
       "  }\n",
       "  th {\n",
       "    text-align: left;\n",
       "  }\n",
       "</style><div class='table-result-container'><table class='table-result'><thead style='background-color: white'><tr><th>Order ID</th><th>Product</th><th>Quantity Ordered</th><th>Price Each</th><th>Order Date</th><th>Purchase Address</th><th>Month</th><th>Day</th><th>Time</th></tr></thead><tbody><tr><td>176561</td><td>Wired Headphones</td><td>1</td><td>11.99</td><td>04/30/19 09:27</td><td>333 8th St, Los Angeles, CA 90001</td><td>04</td><td>30</td><td>09:27</td></tr><tr><td>176560</td><td>Google Phone</td><td>1</td><td>600.0</td><td>04/12/19 14:38</td><td>669 Spruce St, Los Angeles, CA 90001</td><td>04</td><td>12</td><td>14:38</td></tr><tr><td>176560</td><td>Wired Headphones</td><td>1</td><td>11.99</td><td>04/12/19 14:38</td><td>669 Spruce St, Los Angeles, CA 90001</td><td>04</td><td>12</td><td>14:38</td></tr><tr><td>176559</td><td>Bose SoundSport Headphones</td><td>1</td><td>99.99</td><td>04/07/19 22:30</td><td>682 Chestnut St, Boston, MA 02215</td><td>04</td><td>07</td><td>22:30</td></tr><tr><td>176562</td><td>USB-C Charging Cable</td><td>1</td><td>11.95</td><td>04/29/19 13:03</td><td>381 Wilson St, San Francisco, CA 94016</td><td>04</td><td>29</td><td>13:03</td></tr><tr><td>176564</td><td>USB-C Charging Cable</td><td>1</td><td>11.95</td><td>04/12/19 10:58</td><td>790 Ridge St, Atlanta, GA 30301</td><td>04</td><td>12</td><td>10:58</td></tr><tr><td>176558</td><td>USB-C Charging Cable</td><td>2</td><td>11.95</td><td>04/19/19 08:46</td><td>917 1st St, Dallas, TX 75001</td><td>04</td><td>19</td><td>08:46</td></tr><tr><td>176566</td><td>Wired Headphones</td><td>1</td><td>11.99</td><td>04/08/19 14:05</td><td>83 7th St, Boston, MA 02215</td><td>04</td><td>08</td><td>14:05</td></tr><tr><td>176563</td><td>Bose SoundSport Headphones</td><td>1</td><td>99.99</td><td>04/02/19 07:46</td><td>668 Center St, Seattle, WA 98101</td><td>04</td><td>02</td><td>07:46</td></tr><tr><td>176565</td><td>Macbook Pro Laptop</td><td>1</td><td>1700.0</td><td>04/24/19 10:38</td><td>915 Willow St, San Francisco, CA 94016</td><td>04</td><td>24</td><td>10:38</td></tr></tbody></table></div>"
      ]
     },
     "metadata": {
      "application/vnd.databricks.v1+output": {
       "addedWidgets": {},
       "aggData": [],
       "aggError": "",
       "aggOverflow": false,
       "aggSchema": [],
       "aggSeriesLimitReached": false,
       "aggType": "",
       "arguments": {},
       "columnCustomDisplayInfos": {},
       "data": [
        [
         176561,
         "Wired Headphones",
         1,
         11.99,
         "04/30/19 09:27",
         "333 8th St, Los Angeles, CA 90001",
         "04",
         "30",
         "09:27"
        ],
        [
         176560,
         "Google Phone",
         1,
         600.0,
         "04/12/19 14:38",
         "669 Spruce St, Los Angeles, CA 90001",
         "04",
         "12",
         "14:38"
        ],
        [
         176560,
         "Wired Headphones",
         1,
         11.99,
         "04/12/19 14:38",
         "669 Spruce St, Los Angeles, CA 90001",
         "04",
         "12",
         "14:38"
        ],
        [
         176559,
         "Bose SoundSport Headphones",
         1,
         99.99,
         "04/07/19 22:30",
         "682 Chestnut St, Boston, MA 02215",
         "04",
         "07",
         "22:30"
        ],
        [
         176562,
         "USB-C Charging Cable",
         1,
         11.95,
         "04/29/19 13:03",
         "381 Wilson St, San Francisco, CA 94016",
         "04",
         "29",
         "13:03"
        ],
        [
         176564,
         "USB-C Charging Cable",
         1,
         11.95,
         "04/12/19 10:58",
         "790 Ridge St, Atlanta, GA 30301",
         "04",
         "12",
         "10:58"
        ],
        [
         176558,
         "USB-C Charging Cable",
         2,
         11.95,
         "04/19/19 08:46",
         "917 1st St, Dallas, TX 75001",
         "04",
         "19",
         "08:46"
        ],
        [
         176566,
         "Wired Headphones",
         1,
         11.99,
         "04/08/19 14:05",
         "83 7th St, Boston, MA 02215",
         "04",
         "08",
         "14:05"
        ],
        [
         176563,
         "Bose SoundSport Headphones",
         1,
         99.99,
         "04/02/19 07:46",
         "668 Center St, Seattle, WA 98101",
         "04",
         "02",
         "07:46"
        ],
        [
         176565,
         "Macbook Pro Laptop",
         1,
         1700.0,
         "04/24/19 10:38",
         "915 Willow St, San Francisco, CA 94016",
         "04",
         "24",
         "10:38"
        ]
       ],
       "datasetInfos": [],
       "dbfsResultPath": null,
       "isJsonSchema": true,
       "metadata": {},
       "overflow": false,
       "plotOptions": {
        "customPlotOptions": {},
        "displayType": "table",
        "pivotAggregation": null,
        "pivotColumns": null,
        "xColumns": null,
        "yColumns": null
       },
       "removedWidgets": [],
       "schema": [
        {
         "metadata": "{}",
         "name": "Order ID",
         "type": "\"integer\""
        },
        {
         "metadata": "{}",
         "name": "Product",
         "type": "\"string\""
        },
        {
         "metadata": "{}",
         "name": "Quantity Ordered",
         "type": "\"integer\""
        },
        {
         "metadata": "{}",
         "name": "Price Each",
         "type": "\"double\""
        },
        {
         "metadata": "{}",
         "name": "Order Date",
         "type": "\"string\""
        },
        {
         "metadata": "{}",
         "name": "Purchase Address",
         "type": "\"string\""
        },
        {
         "metadata": "{}",
         "name": "Month",
         "type": "\"string\""
        },
        {
         "metadata": "{}",
         "name": "Day",
         "type": "\"string\""
        },
        {
         "metadata": "{}",
         "name": "Time",
         "type": "\"string\""
        }
       ],
       "type": "table"
      }
     },
     "output_type": "display_data"
    }
   ],
   "source": [
    "# Trazer apenas valores não nulos\n",
    "df = df.filter(col(\"Order ID\").isNotNull())\n",
    "display(df.limit(10))\n"
   ]
  },
  {
   "cell_type": "code",
   "execution_count": 0,
   "metadata": {
    "application/vnd.databricks.v1+cell": {
     "cellMetadata": {
      "byteLimit": 2048000,
      "rowLimit": 10000
     },
     "inputWidgets": {},
     "nuid": "c215f061-ded5-4e7a-8b8d-917a8e0b4b89",
     "showTitle": false,
     "title": ""
    }
   },
   "outputs": [
    {
     "output_type": "display_data",
     "data": {
      "text/html": [
       "<style scoped>\n",
       "  .table-result-container {\n",
       "    max-height: 300px;\n",
       "    overflow: auto;\n",
       "  }\n",
       "  table, th, td {\n",
       "    border: 1px solid black;\n",
       "    border-collapse: collapse;\n",
       "  }\n",
       "  th, td {\n",
       "    padding: 5px;\n",
       "  }\n",
       "  th {\n",
       "    text-align: left;\n",
       "  }\n",
       "</style><div class='table-result-container'><table class='table-result'><thead style='background-color: white'><tr><th>Order ID</th><th>Product</th><th>Quantity Ordered</th><th>Price Each</th><th>Purchase Address</th><th>Month</th><th>Day</th><th>Time</th></tr></thead><tbody><tr><td>176561</td><td>Wired Headphones</td><td>1</td><td>11.99</td><td>333 8th St, Los Angeles, CA 90001</td><td>04</td><td>30</td><td>09:27</td></tr><tr><td>176560</td><td>Google Phone</td><td>1</td><td>600.0</td><td>669 Spruce St, Los Angeles, CA 90001</td><td>04</td><td>12</td><td>14:38</td></tr><tr><td>176560</td><td>Wired Headphones</td><td>1</td><td>11.99</td><td>669 Spruce St, Los Angeles, CA 90001</td><td>04</td><td>12</td><td>14:38</td></tr><tr><td>176559</td><td>Bose SoundSport Headphones</td><td>1</td><td>99.99</td><td>682 Chestnut St, Boston, MA 02215</td><td>04</td><td>07</td><td>22:30</td></tr><tr><td>176562</td><td>USB-C Charging Cable</td><td>1</td><td>11.95</td><td>381 Wilson St, San Francisco, CA 94016</td><td>04</td><td>29</td><td>13:03</td></tr><tr><td>176564</td><td>USB-C Charging Cable</td><td>1</td><td>11.95</td><td>790 Ridge St, Atlanta, GA 30301</td><td>04</td><td>12</td><td>10:58</td></tr><tr><td>176558</td><td>USB-C Charging Cable</td><td>2</td><td>11.95</td><td>917 1st St, Dallas, TX 75001</td><td>04</td><td>19</td><td>08:46</td></tr><tr><td>176566</td><td>Wired Headphones</td><td>1</td><td>11.99</td><td>83 7th St, Boston, MA 02215</td><td>04</td><td>08</td><td>14:05</td></tr><tr><td>176563</td><td>Bose SoundSport Headphones</td><td>1</td><td>99.99</td><td>668 Center St, Seattle, WA 98101</td><td>04</td><td>02</td><td>07:46</td></tr><tr><td>176565</td><td>Macbook Pro Laptop</td><td>1</td><td>1700.0</td><td>915 Willow St, San Francisco, CA 94016</td><td>04</td><td>24</td><td>10:38</td></tr></tbody></table></div>"
      ]
     },
     "metadata": {
      "application/vnd.databricks.v1+output": {
       "addedWidgets": {},
       "aggData": [],
       "aggError": "",
       "aggOverflow": false,
       "aggSchema": [],
       "aggSeriesLimitReached": false,
       "aggType": "",
       "arguments": {},
       "columnCustomDisplayInfos": {},
       "data": [
        [
         176561,
         "Wired Headphones",
         1,
         11.99,
         "333 8th St, Los Angeles, CA 90001",
         "04",
         "30",
         "09:27"
        ],
        [
         176560,
         "Google Phone",
         1,
         600.0,
         "669 Spruce St, Los Angeles, CA 90001",
         "04",
         "12",
         "14:38"
        ],
        [
         176560,
         "Wired Headphones",
         1,
         11.99,
         "669 Spruce St, Los Angeles, CA 90001",
         "04",
         "12",
         "14:38"
        ],
        [
         176559,
         "Bose SoundSport Headphones",
         1,
         99.99,
         "682 Chestnut St, Boston, MA 02215",
         "04",
         "07",
         "22:30"
        ],
        [
         176562,
         "USB-C Charging Cable",
         1,
         11.95,
         "381 Wilson St, San Francisco, CA 94016",
         "04",
         "29",
         "13:03"
        ],
        [
         176564,
         "USB-C Charging Cable",
         1,
         11.95,
         "790 Ridge St, Atlanta, GA 30301",
         "04",
         "12",
         "10:58"
        ],
        [
         176558,
         "USB-C Charging Cable",
         2,
         11.95,
         "917 1st St, Dallas, TX 75001",
         "04",
         "19",
         "08:46"
        ],
        [
         176566,
         "Wired Headphones",
         1,
         11.99,
         "83 7th St, Boston, MA 02215",
         "04",
         "08",
         "14:05"
        ],
        [
         176563,
         "Bose SoundSport Headphones",
         1,
         99.99,
         "668 Center St, Seattle, WA 98101",
         "04",
         "02",
         "07:46"
        ],
        [
         176565,
         "Macbook Pro Laptop",
         1,
         1700.0,
         "915 Willow St, San Francisco, CA 94016",
         "04",
         "24",
         "10:38"
        ]
       ],
       "datasetInfos": [],
       "dbfsResultPath": null,
       "isJsonSchema": true,
       "metadata": {},
       "overflow": false,
       "plotOptions": {
        "customPlotOptions": {},
        "displayType": "table",
        "pivotAggregation": null,
        "pivotColumns": null,
        "xColumns": null,
        "yColumns": null
       },
       "removedWidgets": [],
       "schema": [
        {
         "metadata": "{}",
         "name": "Order ID",
         "type": "\"integer\""
        },
        {
         "metadata": "{}",
         "name": "Product",
         "type": "\"string\""
        },
        {
         "metadata": "{}",
         "name": "Quantity Ordered",
         "type": "\"integer\""
        },
        {
         "metadata": "{}",
         "name": "Price Each",
         "type": "\"double\""
        },
        {
         "metadata": "{}",
         "name": "Purchase Address",
         "type": "\"string\""
        },
        {
         "metadata": "{}",
         "name": "Month",
         "type": "\"string\""
        },
        {
         "metadata": "{}",
         "name": "Day",
         "type": "\"string\""
        },
        {
         "metadata": "{}",
         "name": "Time",
         "type": "\"string\""
        }
       ],
       "type": "table"
      }
     },
     "output_type": "display_data"
    }
   ],
   "source": [
    "# Remover coluna desnecessária (data) e alterar coluna de qtd pra numerica\n",
    "df = df.drop(col(\"Order Date\"))\n",
    "display(df.limit(10))"
   ]
  },
  {
   "cell_type": "code",
   "execution_count": 0,
   "metadata": {
    "application/vnd.databricks.v1+cell": {
     "cellMetadata": {
      "byteLimit": 2048000,
      "rowLimit": 10000
     },
     "inputWidgets": {},
     "nuid": "f5427731-81cc-454e-84aa-ba28b2bb7185",
     "showTitle": false,
     "title": ""
    }
   },
   "outputs": [
    {
     "output_type": "display_data",
     "data": {
      "text/html": [
       "<style scoped>\n",
       "  .table-result-container {\n",
       "    max-height: 300px;\n",
       "    overflow: auto;\n",
       "  }\n",
       "  table, th, td {\n",
       "    border: 1px solid black;\n",
       "    border-collapse: collapse;\n",
       "  }\n",
       "  th, td {\n",
       "    padding: 5px;\n",
       "  }\n",
       "  th {\n",
       "    text-align: left;\n",
       "  }\n",
       "</style><div class='table-result-container'><table class='table-result'><thead style='background-color: white'><tr><th>Order ID</th><th>Product</th><th>Quantity Ordered</th><th>Price Each</th><th>Purchase Address</th><th>Month</th><th>Day</th><th>Time</th><th>Total</th></tr></thead><tbody><tr><td>176561</td><td>Wired Headphones</td><td>1</td><td>11.99</td><td>333 8th St, Los Angeles, CA 90001</td><td>04</td><td>30</td><td>09:27</td><td>11.99</td></tr><tr><td>176560</td><td>Google Phone</td><td>1</td><td>600.0</td><td>669 Spruce St, Los Angeles, CA 90001</td><td>04</td><td>12</td><td>14:38</td><td>600.0</td></tr><tr><td>176560</td><td>Wired Headphones</td><td>1</td><td>11.99</td><td>669 Spruce St, Los Angeles, CA 90001</td><td>04</td><td>12</td><td>14:38</td><td>11.99</td></tr><tr><td>176559</td><td>Bose SoundSport Headphones</td><td>1</td><td>99.99</td><td>682 Chestnut St, Boston, MA 02215</td><td>04</td><td>07</td><td>22:30</td><td>99.99</td></tr><tr><td>176562</td><td>USB-C Charging Cable</td><td>1</td><td>11.95</td><td>381 Wilson St, San Francisco, CA 94016</td><td>04</td><td>29</td><td>13:03</td><td>11.95</td></tr><tr><td>176564</td><td>USB-C Charging Cable</td><td>1</td><td>11.95</td><td>790 Ridge St, Atlanta, GA 30301</td><td>04</td><td>12</td><td>10:58</td><td>11.95</td></tr><tr><td>176558</td><td>USB-C Charging Cable</td><td>2</td><td>11.95</td><td>917 1st St, Dallas, TX 75001</td><td>04</td><td>19</td><td>08:46</td><td>23.9</td></tr><tr><td>176566</td><td>Wired Headphones</td><td>1</td><td>11.99</td><td>83 7th St, Boston, MA 02215</td><td>04</td><td>08</td><td>14:05</td><td>11.99</td></tr><tr><td>176563</td><td>Bose SoundSport Headphones</td><td>1</td><td>99.99</td><td>668 Center St, Seattle, WA 98101</td><td>04</td><td>02</td><td>07:46</td><td>99.99</td></tr><tr><td>176565</td><td>Macbook Pro Laptop</td><td>1</td><td>1700.0</td><td>915 Willow St, San Francisco, CA 94016</td><td>04</td><td>24</td><td>10:38</td><td>1700.0</td></tr></tbody></table></div>"
      ]
     },
     "metadata": {
      "application/vnd.databricks.v1+output": {
       "addedWidgets": {},
       "aggData": [],
       "aggError": "",
       "aggOverflow": false,
       "aggSchema": [],
       "aggSeriesLimitReached": false,
       "aggType": "",
       "arguments": {},
       "columnCustomDisplayInfos": {},
       "data": [
        [
         176561,
         "Wired Headphones",
         1,
         11.99,
         "333 8th St, Los Angeles, CA 90001",
         "04",
         "30",
         "09:27",
         11.99
        ],
        [
         176560,
         "Google Phone",
         1,
         600.0,
         "669 Spruce St, Los Angeles, CA 90001",
         "04",
         "12",
         "14:38",
         600.0
        ],
        [
         176560,
         "Wired Headphones",
         1,
         11.99,
         "669 Spruce St, Los Angeles, CA 90001",
         "04",
         "12",
         "14:38",
         11.99
        ],
        [
         176559,
         "Bose SoundSport Headphones",
         1,
         99.99,
         "682 Chestnut St, Boston, MA 02215",
         "04",
         "07",
         "22:30",
         99.99
        ],
        [
         176562,
         "USB-C Charging Cable",
         1,
         11.95,
         "381 Wilson St, San Francisco, CA 94016",
         "04",
         "29",
         "13:03",
         11.95
        ],
        [
         176564,
         "USB-C Charging Cable",
         1,
         11.95,
         "790 Ridge St, Atlanta, GA 30301",
         "04",
         "12",
         "10:58",
         11.95
        ],
        [
         176558,
         "USB-C Charging Cable",
         2,
         11.95,
         "917 1st St, Dallas, TX 75001",
         "04",
         "19",
         "08:46",
         23.9
        ],
        [
         176566,
         "Wired Headphones",
         1,
         11.99,
         "83 7th St, Boston, MA 02215",
         "04",
         "08",
         "14:05",
         11.99
        ],
        [
         176563,
         "Bose SoundSport Headphones",
         1,
         99.99,
         "668 Center St, Seattle, WA 98101",
         "04",
         "02",
         "07:46",
         99.99
        ],
        [
         176565,
         "Macbook Pro Laptop",
         1,
         1700.0,
         "915 Willow St, San Francisco, CA 94016",
         "04",
         "24",
         "10:38",
         1700.0
        ]
       ],
       "datasetInfos": [],
       "dbfsResultPath": null,
       "isJsonSchema": true,
       "metadata": {},
       "overflow": false,
       "plotOptions": {
        "customPlotOptions": {},
        "displayType": "table",
        "pivotAggregation": null,
        "pivotColumns": null,
        "xColumns": null,
        "yColumns": null
       },
       "removedWidgets": [],
       "schema": [
        {
         "metadata": "{}",
         "name": "Order ID",
         "type": "\"integer\""
        },
        {
         "metadata": "{}",
         "name": "Product",
         "type": "\"string\""
        },
        {
         "metadata": "{}",
         "name": "Quantity Ordered",
         "type": "\"integer\""
        },
        {
         "metadata": "{}",
         "name": "Price Each",
         "type": "\"double\""
        },
        {
         "metadata": "{}",
         "name": "Purchase Address",
         "type": "\"string\""
        },
        {
         "metadata": "{}",
         "name": "Month",
         "type": "\"string\""
        },
        {
         "metadata": "{}",
         "name": "Day",
         "type": "\"string\""
        },
        {
         "metadata": "{}",
         "name": "Time",
         "type": "\"string\""
        },
        {
         "metadata": "{}",
         "name": "Total",
         "type": "\"double\""
        }
       ],
       "type": "table"
      }
     },
     "output_type": "display_data"
    }
   ],
   "source": [
    "# Criar nova coluna de valor total\n",
    "df = df.withColumn(\"Total\",col(\"Quantity Ordered\")*col(\"Price Each\"))\n",
    "display(df.limit(10))"
   ]
  },
  {
   "cell_type": "code",
   "execution_count": 0,
   "metadata": {
    "application/vnd.databricks.v1+cell": {
     "cellMetadata": {
      "byteLimit": 2048000,
      "rowLimit": 10000
     },
     "inputWidgets": {},
     "nuid": "2fd6d04a-68a9-4b37-a484-7fa18d2fd1e5",
     "showTitle": false,
     "title": ""
    }
   },
   "outputs": [
    {
     "output_type": "display_data",
     "data": {
      "text/html": [
       "<style scoped>\n",
       "  .table-result-container {\n",
       "    max-height: 300px;\n",
       "    overflow: auto;\n",
       "  }\n",
       "  table, th, td {\n",
       "    border: 1px solid black;\n",
       "    border-collapse: collapse;\n",
       "  }\n",
       "  th, td {\n",
       "    padding: 5px;\n",
       "  }\n",
       "  th {\n",
       "    text-align: left;\n",
       "  }\n",
       "</style><div class='table-result-container'><table class='table-result'><thead style='background-color: white'><tr><th>Order ID</th><th>Product</th><th>Quantity Ordered</th><th>Price Each</th><th>Total</th><th>Purchase Address</th><th>Month</th><th>Day</th><th>Time</th></tr></thead><tbody><tr><td>176561</td><td>Wired Headphones</td><td>1</td><td>11.99</td><td>11.99</td><td>333 8th St, Los Angeles, CA 90001</td><td>04</td><td>30</td><td>09:27</td></tr><tr><td>176560</td><td>Google Phone</td><td>1</td><td>600.0</td><td>600.0</td><td>669 Spruce St, Los Angeles, CA 90001</td><td>04</td><td>12</td><td>14:38</td></tr><tr><td>176560</td><td>Wired Headphones</td><td>1</td><td>11.99</td><td>11.99</td><td>669 Spruce St, Los Angeles, CA 90001</td><td>04</td><td>12</td><td>14:38</td></tr><tr><td>176559</td><td>Bose SoundSport Headphones</td><td>1</td><td>99.99</td><td>99.99</td><td>682 Chestnut St, Boston, MA 02215</td><td>04</td><td>07</td><td>22:30</td></tr><tr><td>176562</td><td>USB-C Charging Cable</td><td>1</td><td>11.95</td><td>11.95</td><td>381 Wilson St, San Francisco, CA 94016</td><td>04</td><td>29</td><td>13:03</td></tr><tr><td>176564</td><td>USB-C Charging Cable</td><td>1</td><td>11.95</td><td>11.95</td><td>790 Ridge St, Atlanta, GA 30301</td><td>04</td><td>12</td><td>10:58</td></tr><tr><td>176558</td><td>USB-C Charging Cable</td><td>2</td><td>11.95</td><td>23.9</td><td>917 1st St, Dallas, TX 75001</td><td>04</td><td>19</td><td>08:46</td></tr><tr><td>176566</td><td>Wired Headphones</td><td>1</td><td>11.99</td><td>11.99</td><td>83 7th St, Boston, MA 02215</td><td>04</td><td>08</td><td>14:05</td></tr><tr><td>176563</td><td>Bose SoundSport Headphones</td><td>1</td><td>99.99</td><td>99.99</td><td>668 Center St, Seattle, WA 98101</td><td>04</td><td>02</td><td>07:46</td></tr><tr><td>176565</td><td>Macbook Pro Laptop</td><td>1</td><td>1700.0</td><td>1700.0</td><td>915 Willow St, San Francisco, CA 94016</td><td>04</td><td>24</td><td>10:38</td></tr></tbody></table></div>"
      ]
     },
     "metadata": {
      "application/vnd.databricks.v1+output": {
       "addedWidgets": {},
       "aggData": [],
       "aggError": "",
       "aggOverflow": false,
       "aggSchema": [],
       "aggSeriesLimitReached": false,
       "aggType": "",
       "arguments": {},
       "columnCustomDisplayInfos": {},
       "data": [
        [
         176561,
         "Wired Headphones",
         1,
         11.99,
         11.99,
         "333 8th St, Los Angeles, CA 90001",
         "04",
         "30",
         "09:27"
        ],
        [
         176560,
         "Google Phone",
         1,
         600.0,
         600.0,
         "669 Spruce St, Los Angeles, CA 90001",
         "04",
         "12",
         "14:38"
        ],
        [
         176560,
         "Wired Headphones",
         1,
         11.99,
         11.99,
         "669 Spruce St, Los Angeles, CA 90001",
         "04",
         "12",
         "14:38"
        ],
        [
         176559,
         "Bose SoundSport Headphones",
         1,
         99.99,
         99.99,
         "682 Chestnut St, Boston, MA 02215",
         "04",
         "07",
         "22:30"
        ],
        [
         176562,
         "USB-C Charging Cable",
         1,
         11.95,
         11.95,
         "381 Wilson St, San Francisco, CA 94016",
         "04",
         "29",
         "13:03"
        ],
        [
         176564,
         "USB-C Charging Cable",
         1,
         11.95,
         11.95,
         "790 Ridge St, Atlanta, GA 30301",
         "04",
         "12",
         "10:58"
        ],
        [
         176558,
         "USB-C Charging Cable",
         2,
         11.95,
         23.9,
         "917 1st St, Dallas, TX 75001",
         "04",
         "19",
         "08:46"
        ],
        [
         176566,
         "Wired Headphones",
         1,
         11.99,
         11.99,
         "83 7th St, Boston, MA 02215",
         "04",
         "08",
         "14:05"
        ],
        [
         176563,
         "Bose SoundSport Headphones",
         1,
         99.99,
         99.99,
         "668 Center St, Seattle, WA 98101",
         "04",
         "02",
         "07:46"
        ],
        [
         176565,
         "Macbook Pro Laptop",
         1,
         1700.0,
         1700.0,
         "915 Willow St, San Francisco, CA 94016",
         "04",
         "24",
         "10:38"
        ]
       ],
       "datasetInfos": [],
       "dbfsResultPath": null,
       "isJsonSchema": true,
       "metadata": {},
       "overflow": false,
       "plotOptions": {
        "customPlotOptions": {},
        "displayType": "table",
        "pivotAggregation": null,
        "pivotColumns": null,
        "xColumns": null,
        "yColumns": null
       },
       "removedWidgets": [],
       "schema": [
        {
         "metadata": "{}",
         "name": "Order ID",
         "type": "\"integer\""
        },
        {
         "metadata": "{}",
         "name": "Product",
         "type": "\"string\""
        },
        {
         "metadata": "{}",
         "name": "Quantity Ordered",
         "type": "\"integer\""
        },
        {
         "metadata": "{}",
         "name": "Price Each",
         "type": "\"double\""
        },
        {
         "metadata": "{}",
         "name": "Total",
         "type": "\"double\""
        },
        {
         "metadata": "{}",
         "name": "Purchase Address",
         "type": "\"string\""
        },
        {
         "metadata": "{}",
         "name": "Month",
         "type": "\"string\""
        },
        {
         "metadata": "{}",
         "name": "Day",
         "type": "\"string\""
        },
        {
         "metadata": "{}",
         "name": "Time",
         "type": "\"string\""
        }
       ],
       "type": "table"
      }
     },
     "output_type": "display_data"
    }
   ],
   "source": [
    "# Ajustar ordem das colunas\n",
    "df.columns\n",
    "\n",
    "df = df.select(['Order ID',\n",
    " 'Product',\n",
    " 'Quantity Ordered',\n",
    " 'Price Each',\n",
    " 'Total',\n",
    " 'Purchase Address',\n",
    " 'Month',\n",
    " 'Day',\n",
    " 'Time'])\n",
    "\n",
    "display(df.limit(10))"
   ]
  },
  {
   "cell_type": "markdown",
   "metadata": {
    "application/vnd.databricks.v1+cell": {
     "cellMetadata": {},
     "inputWidgets": {},
     "nuid": "ba74ccaa-dca3-46af-ad3c-43ff53ec8d70",
     "showTitle": false,
     "title": ""
    }
   },
   "source": [
    "#### Transformando dataframe tratado para responder perguntas de negócios"
   ]
  },
  {
   "cell_type": "code",
   "execution_count": 0,
   "metadata": {
    "application/vnd.databricks.v1+cell": {
     "cellMetadata": {
      "byteLimit": 2048000,
      "rowLimit": 10000
     },
     "inputWidgets": {},
     "nuid": "219ba445-13f6-48ee-828d-af7a2d7c51c4",
     "showTitle": false,
     "title": ""
    }
   },
   "outputs": [
    {
     "output_type": "display_data",
     "data": {
      "text/html": [
       "<style scoped>\n",
       "  .table-result-container {\n",
       "    max-height: 300px;\n",
       "    overflow: auto;\n",
       "  }\n",
       "  table, th, td {\n",
       "    border: 1px solid black;\n",
       "    border-collapse: collapse;\n",
       "  }\n",
       "  th, td {\n",
       "    padding: 5px;\n",
       "  }\n",
       "  th {\n",
       "    text-align: left;\n",
       "  }\n",
       "</style><div class='table-result-container'><table class='table-result'><thead style='background-color: white'><tr><th>Month</th><th>Total</th></tr></thead><tbody><tr><td>12</td><td>4,608,295.70</td></tr><tr><td>10</td><td>3,734,777.86</td></tr><tr><td>04</td><td>3,389,217.98</td></tr><tr><td>11</td><td>3,197,875.05</td></tr><tr><td>05</td><td>3,150,616.23</td></tr><tr><td>03</td><td>2,804,973.35</td></tr><tr><td>07</td><td>2,646,461.32</td></tr><tr><td>06</td><td>2,576,280.15</td></tr><tr><td>08</td><td>2,241,083.37</td></tr><tr><td>02</td><td>2,200,078.08</td></tr><tr><td>09</td><td>2,094,465.69</td></tr><tr><td>01</td><td>1,821,413.16</td></tr></tbody></table></div>"
      ]
     },
     "metadata": {
      "application/vnd.databricks.v1+output": {
       "addedWidgets": {},
       "aggData": [],
       "aggError": "",
       "aggOverflow": false,
       "aggSchema": [],
       "aggSeriesLimitReached": false,
       "aggType": "",
       "arguments": {},
       "columnCustomDisplayInfos": {},
       "data": [
        [
         "12",
         "4,608,295.70"
        ],
        [
         "10",
         "3,734,777.86"
        ],
        [
         "04",
         "3,389,217.98"
        ],
        [
         "11",
         "3,197,875.05"
        ],
        [
         "05",
         "3,150,616.23"
        ],
        [
         "03",
         "2,804,973.35"
        ],
        [
         "07",
         "2,646,461.32"
        ],
        [
         "06",
         "2,576,280.15"
        ],
        [
         "08",
         "2,241,083.37"
        ],
        [
         "02",
         "2,200,078.08"
        ],
        [
         "09",
         "2,094,465.69"
        ],
        [
         "01",
         "1,821,413.16"
        ]
       ],
       "datasetInfos": [],
       "dbfsResultPath": null,
       "isJsonSchema": true,
       "metadata": {},
       "overflow": false,
       "plotOptions": {
        "customPlotOptions": {},
        "displayType": "table",
        "pivotAggregation": null,
        "pivotColumns": null,
        "xColumns": null,
        "yColumns": null
       },
       "removedWidgets": [],
       "schema": [
        {
         "metadata": "{}",
         "name": "Month",
         "type": "\"string\""
        },
        {
         "metadata": "{}",
         "name": "Total",
         "type": "\"string\""
        }
       ],
       "type": "table"
      }
     },
     "output_type": "display_data"
    }
   ],
   "source": [
    "# Agregar valores totais por mês de vendas\n",
    "\n",
    "df_total_per_month = df.groupBy(\"Month\").agg({\"Total\":\"sum\"})\n",
    "df_total_per_month = df_total_per_month.withColumnRenamed(\"sum(Total)\",\"Total\")\\\n",
    "    .withColumn(\"Total\",round(\"Total\",2))\\\n",
    "        .withColumn(\"Total\",format_number(col(\"Total\"),2))\\\n",
    "        .sort(col(\"Total\"),ascending=False)\n",
    "display(df_total_per_month)"
   ]
  },
  {
   "cell_type": "code",
   "execution_count": 0,
   "metadata": {
    "application/vnd.databricks.v1+cell": {
     "cellMetadata": {
      "byteLimit": 2048000,
      "rowLimit": 10000
     },
     "inputWidgets": {},
     "nuid": "c938b55c-5b72-4c16-9668-6df5db1ee2ee",
     "showTitle": false,
     "title": ""
    }
   },
   "outputs": [
    {
     "output_type": "display_data",
     "data": {
      "text/html": [
       "<style scoped>\n",
       "  .table-result-container {\n",
       "    max-height: 300px;\n",
       "    overflow: auto;\n",
       "  }\n",
       "  table, th, td {\n",
       "    border: 1px solid black;\n",
       "    border-collapse: collapse;\n",
       "  }\n",
       "  th, td {\n",
       "    padding: 5px;\n",
       "  }\n",
       "  th {\n",
       "    text-align: left;\n",
       "  }\n",
       "</style><div class='table-result-container'><table class='table-result'><thead style='background-color: white'><tr><th>City</th><th>Total</th></tr></thead><tbody><tr><td>San Francisco - CA</td><td>8,254,743.55</td></tr><tr><td>Los Angeles - CA</td><td>5,448,304.28</td></tr><tr><td>Portland - ME</td><td>449,321.38</td></tr><tr><td>New York City - NY</td><td>4,661,867.14</td></tr><tr><td>Boston - MA</td><td>3,658,627.65</td></tr><tr><td>Atlanta - GA</td><td>2,794,199.07</td></tr><tr><td>Dallas - TX</td><td>2,765,373.96</td></tr><tr><td>Seattle - WA</td><td>2,745,046.02</td></tr><tr><td>Portland - OR</td><td>1,870,010.56</td></tr><tr><td>Austin - TX</td><td>1,818,044.33</td></tr></tbody></table></div>"
      ]
     },
     "metadata": {
      "application/vnd.databricks.v1+output": {
       "addedWidgets": {},
       "aggData": [],
       "aggError": "",
       "aggOverflow": false,
       "aggSchema": [],
       "aggSeriesLimitReached": false,
       "aggType": "",
       "arguments": {},
       "columnCustomDisplayInfos": {},
       "data": [
        [
         "San Francisco - CA",
         "8,254,743.55"
        ],
        [
         "Los Angeles - CA",
         "5,448,304.28"
        ],
        [
         "Portland - ME",
         "449,321.38"
        ],
        [
         "New York City - NY",
         "4,661,867.14"
        ],
        [
         "Boston - MA",
         "3,658,627.65"
        ],
        [
         "Atlanta - GA",
         "2,794,199.07"
        ],
        [
         "Dallas - TX",
         "2,765,373.96"
        ],
        [
         "Seattle - WA",
         "2,745,046.02"
        ],
        [
         "Portland - OR",
         "1,870,010.56"
        ],
        [
         "Austin - TX",
         "1,818,044.33"
        ]
       ],
       "datasetInfos": [],
       "dbfsResultPath": null,
       "isJsonSchema": true,
       "metadata": {},
       "overflow": false,
       "plotOptions": {
        "customPlotOptions": {},
        "displayType": "table",
        "pivotAggregation": null,
        "pivotColumns": null,
        "xColumns": null,
        "yColumns": null
       },
       "removedWidgets": [],
       "schema": [
        {
         "metadata": "{}",
         "name": "City",
         "type": "\"string\""
        },
        {
         "metadata": "{}",
         "name": "Total",
         "type": "\"string\""
        }
       ],
       "type": "table"
      }
     },
     "output_type": "display_data"
    }
   ],
   "source": [
    "# Qual cidade vendeu mais?\n",
    "\n",
    "df_total_per_city = df.withColumn(\"AddressList\",split(col(\"Purchase Address\"),\", \"))\\\n",
    "    .withColumn(\"City\",trim(col(\"AddressList\")[1]))\\\n",
    "        .withColumn(\"State\",trim(col(\"AddressList\")[2]))\\\n",
    "        .withColumn(\"State\",split(col(\"State\"),\" \")[0])\\\n",
    "            .withColumn(\"City\",concat_ws(\" - \",col(\"City\"),col(\"State\")))\\\n",
    "            .drop(\"State\",\"AddressList\")\n",
    "\n",
    "df_total_per_city = df_total_per_city.groupBy(\"City\").agg({\"Total\":\"sum\"}).withColumnRenamed(\"sum(Total)\",\"Total\")\\\n",
    "    .withColumn(\"Total\",round(col(\"Total\"),2))\\\n",
    "        .withColumn(\"Total\",format_number(col(\"Total\"),2))\\\n",
    "        .sort(col(\"Total\"),ascending=False)\n",
    "\n",
    "display(df_total_per_city)"
   ]
  }
 ],
 "metadata": {
  "application/vnd.databricks.v1+notebook": {
   "dashboards": [],
   "environmentMetadata": null,
   "language": "python",
   "notebookMetadata": {
    "pythonIndentUnit": 4
   },
   "notebookName": "sales_ETL",
   "widgets": {}
  }
 },
 "nbformat": 4,
 "nbformat_minor": 0
}
